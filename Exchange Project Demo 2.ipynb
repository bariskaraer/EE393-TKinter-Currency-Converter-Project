{
 "cells": [
  {
   "cell_type": "code",
   "execution_count": 1,
   "metadata": {},
   "outputs": [],
   "source": [
    "from forex_python.converter import CurrencyRates"
   ]
  },
  {
   "cell_type": "code",
   "execution_count": 2,
   "metadata": {},
   "outputs": [],
   "source": [
    "import tkinter as tk \n",
    "from tkinter import ttk "
   ]
  },
  {
   "cell_type": "code",
   "execution_count": 3,
   "metadata": {},
   "outputs": [],
   "source": [
    "LARGEFONT =(\"Verdana\", 35) \n",
    "c = CurrencyRates()"
   ]
  },
  {
   "cell_type": "code",
   "execution_count": null,
   "metadata": {},
   "outputs": [],
   "source": []
  },
  {
   "cell_type": "code",
   "execution_count": 4,
   "metadata": {},
   "outputs": [],
   "source": [
    "class tkinterApp(tk.Tk): \n",
    "      \n",
    "    # __init__ function for class tkinterApp  \n",
    "    def __init__(self, *args, **kwargs):  \n",
    "          \n",
    "        # __init__ function for class Tk \n",
    "        tk.Tk.__init__(self, *args, **kwargs) \n",
    "          \n",
    "            \n",
    "        self.title(\"Exchange OzU\")\n",
    "        self.geometry(\"1200x600\")\n",
    "        # creating a container \n",
    "        container = tk.Frame(self)   \n",
    "        container.pack(side = \"top\", fill = \"both\", expand = True)  \n",
    "   \n",
    "        container.grid_rowconfigure(0, weight = 1) \n",
    "        container.grid_columnconfigure(0, weight = 1) \n",
    "   \n",
    "        # initializing frames to an empty array \n",
    "        self.frames = {}   \n",
    "   \n",
    "        # iterating through a tuple consisting \n",
    "        # of the different page layouts \n",
    "        for F in (Start_Page, GBP_Page, EUR_Page, TRY_Page, HKD_Page): \n",
    "   \n",
    "            frame = F(container, self) \n",
    "   \n",
    "            # initializing frame of that object from \n",
    "            # startpage, page1, page2 respectively with  \n",
    "            self.frames[F] = frame  \n",
    "   \n",
    "            frame.grid(row = 0, column = 0, sticky =\"nsew\") \n",
    "   \n",
    "        self.show_frame(Start_Page) \n",
    "   \n",
    "    # to display the current frame passed as \n",
    "    # parameter \n",
    "    def show_frame(self, cont): \n",
    "        frame = self.frames[cont] \n",
    "        frame.tkraise() \n",
    "\n",
    "        \n"
   ]
  },
  {
   "cell_type": "code",
   "execution_count": 5,
   "metadata": {},
   "outputs": [],
   "source": [
    "# first window frame START_PAGE\n",
    "class Start_Page(tk.Frame): \n",
    "    def __init__(self, parent, controller):  \n",
    "        tk.Frame.__init__(self, parent) \n",
    "          \n",
    "        # label of frame Layout 2 \n",
    "        label = ttk.Label(self, text =\"Start Page\", font = LARGEFONT) \n",
    "          \n",
    "        # putting the grid in its place\n",
    "        label.grid(row = 0, column = 4, padx = 10, pady = 10)  \n",
    "   \n",
    "        # Putting Buttons in place\n",
    "    \n",
    "        button1 = ttk.Button(self, text =\"USD to GBP\", command = lambda : controller.show_frame(GBP_Page)) \n",
    "        button1.grid(row = 1, column = 1, padx = 10, pady = 10) \n",
    "   \n",
    "        button2 = ttk.Button(self, text =\"USD to EUR\", command = lambda : controller.show_frame(EUR_Page)) \n",
    "        button2.grid(row = 2, column = 1, padx = 10, pady = 10)\n",
    "        \n",
    "        button3 = ttk.Button(self, text =\"USD to TRY\", command = lambda : controller.show_frame(TRY_Page)) \n",
    "        button3.grid(row = 3, column = 1, padx = 10, pady = 10)\n",
    "        \n",
    "        button4 = ttk.Button(self, text =\"USD to HKD\", command = lambda : controller.show_frame(HKD_Page)) \n",
    "        button4.grid(row = 4, column = 1, padx = 10, pady = 10)"
   ]
  },
  {
   "cell_type": "code",
   "execution_count": null,
   "metadata": {},
   "outputs": [],
   "source": []
  },
  {
   "cell_type": "code",
   "execution_count": 6,
   "metadata": {},
   "outputs": [],
   "source": [
    "\n",
    "\n",
    "# second window frame page1  \n",
    "class GBP_Page(tk.Frame):\n",
    "    def usd_to_gbp_conversion(self):\n",
    "        new_gbp_value = c.convert('USD', 'GBP', int(self.entry_usd_to_gbp.get()) )\n",
    "        new_gbp_value = str(new_gbp_value) + \" Great Britain Pound\"\n",
    "        new_gbp_label.config(text = new_gbp_value)\n",
    "      \n",
    "    def __init__(self, parent, controller):    \n",
    "        tk.Frame.__init__(self, parent) \n",
    "        label = ttk.Label(self, text =\"USD to GBP Page\", font = LARGEFONT) \n",
    "        label.grid(row = 0, column = 4, padx = 10, pady = 10) \n",
    "   \n",
    "        button1 = ttk.Button(self, text =\"Start Page\", command = lambda : controller.show_frame(Start_Page)) \n",
    "        button1.grid(row = 1, column = 1, padx = 10, pady = 10) \n",
    "        \n",
    "        \n",
    "        entry_usd_to_gbp = ttk.Entry(self,width=20)\n",
    "        entry_usd_to_gbp.grid(row = 1, column = 5, padx = 10, pady = 10) \n",
    "        entry_usd_to_gbp.insert(0,\"Enter a USD value: \")\n",
    "        \n",
    "        new_gbp_label = ttk.Label(self, text =\"... Great Britain Pound\") \n",
    "        new_gbp_label.grid(row = 1, column = 9, padx = 10, pady = 10) \n",
    "        \n",
    "        convert_button = ttk.Button(self, text =\"Convert\", command = self.usd_to_gbp_conversion ) \n",
    "        convert_button.grid(row = 3, column = 7, padx = 10, pady = 10) "
   ]
  },
  {
   "cell_type": "code",
   "execution_count": 7,
   "metadata": {},
   "outputs": [],
   "source": [
    "# second window frame page1  \n",
    "class EUR_Page(tk.Frame): \n",
    "      \n",
    "    def __init__(self, parent, controller): \n",
    "          \n",
    "        tk.Frame.__init__(self, parent) \n",
    "        label = ttk.Label(self, text =\"USD to EUR Page\", font = LARGEFONT) \n",
    "        label.grid(row = 0, column = 4, padx = 10, pady = 10) \n",
    "   \n",
    "        button2 = ttk.Button(self, text =\"Start Page\", command = lambda : controller.show_frame(Start_Page)) \n",
    "        button2.grid(row = 1, column = 1, padx = 10, pady = 10) "
   ]
  },
  {
   "cell_type": "code",
   "execution_count": 8,
   "metadata": {},
   "outputs": [],
   "source": [
    "# second window frame page1  \n",
    "class TRY_Page(tk.Frame): \n",
    "      \n",
    "    def __init__(self, parent, controller): \n",
    "          \n",
    "        tk.Frame.__init__(self, parent) \n",
    "        label = ttk.Label(self, text =\"USD to TRY Page\", font = LARGEFONT) \n",
    "        label.grid(row = 0, column = 4, padx = 10, pady = 10) \n",
    "\n",
    "        button3 = ttk.Button(self, text =\"Start Page\", command = lambda : controller.show_frame(Start_Page)) \n",
    "        button3.grid(row = 1, column = 1, padx = 10, pady = 10) "
   ]
  },
  {
   "cell_type": "code",
   "execution_count": 9,
   "metadata": {},
   "outputs": [],
   "source": [
    "# second window frame page1  \n",
    "class HKD_Page(tk.Frame): \n",
    "      \n",
    "    def __init__(self, parent, controller): \n",
    "          \n",
    "        tk.Frame.__init__(self, parent) \n",
    "        label = ttk.Label(self, text =\"USD to HKD Page\", font = LARGEFONT) \n",
    "        label.grid(row = 0, column = 4, padx = 10, pady = 10) \n",
    "   \n",
    "        button4 = ttk.Button(self, text =\"Start Page\", command = lambda : controller.show_frame(Start_Page)) \n",
    "        button4.grid(row = 1, column = 1, padx = 10, pady = 10) \n"
   ]
  },
  {
   "cell_type": "code",
   "execution_count": null,
   "metadata": {},
   "outputs": [],
   "source": []
  },
  {
   "cell_type": "code",
   "execution_count": 10,
   "metadata": {
    "scrolled": true
   },
   "outputs": [
    {
     "name": "stderr",
     "output_type": "stream",
     "text": [
      "Exception in Tkinter callback\n",
      "Traceback (most recent call last):\n",
      "  File \"C:\\Users\\baris\\anaconda3\\lib\\tkinter\\__init__.py\", line 1705, in __call__\n",
      "    return self.func(*args)\n",
      "  File \"<ipython-input-6-3f18c68a909a>\", line 4, in usd_to_gbp_conversion\n",
      "    new_gbp_value = c.convert('USD', 'GBP', int(self.entry_usd_to_gbp.get()) )\n",
      "AttributeError: 'GBP_Page' object has no attribute 'entry_usd_to_gbp'\n"
     ]
    }
   ],
   "source": [
    "# Driver Code \n",
    "app = tkinterApp() \n",
    "app.mainloop() "
   ]
  },
  {
   "cell_type": "code",
   "execution_count": null,
   "metadata": {},
   "outputs": [],
   "source": []
  },
  {
   "cell_type": "code",
   "execution_count": null,
   "metadata": {},
   "outputs": [],
   "source": []
  },
  {
   "cell_type": "code",
   "execution_count": null,
   "metadata": {},
   "outputs": [],
   "source": []
  },
  {
   "cell_type": "code",
   "execution_count": null,
   "metadata": {},
   "outputs": [],
   "source": []
  },
  {
   "cell_type": "code",
   "execution_count": null,
   "metadata": {},
   "outputs": [],
   "source": []
  },
  {
   "cell_type": "code",
   "execution_count": null,
   "metadata": {},
   "outputs": [],
   "source": []
  }
 ],
 "metadata": {
  "kernelspec": {
   "display_name": "Python 3",
   "language": "python",
   "name": "python3"
  },
  "language_info": {
   "codemirror_mode": {
    "name": "ipython",
    "version": 3
   },
   "file_extension": ".py",
   "mimetype": "text/x-python",
   "name": "python",
   "nbconvert_exporter": "python",
   "pygments_lexer": "ipython3",
   "version": "3.7.6"
  }
 },
 "nbformat": 4,
 "nbformat_minor": 4
}
